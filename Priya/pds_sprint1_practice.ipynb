{
 "cells": [
  {
   "cell_type": "code",
   "execution_count": 1,
   "id": "20138330-7bf8-4a8a-95dc-8a98b0c29180",
   "metadata": {},
   "outputs": [
    {
     "data": {
      "text/plain": [
       "array([24, 25, 26, 27, 28, 29, 30])"
      ]
     },
     "execution_count": 1,
     "metadata": {},
     "output_type": "execute_result"
    }
   ],
   "source": [
    "#TASK1:The company hired 30 employees recently.Assign employee id to 30 candidates as per deatil below .save the emplyee Id in in sepaarte !D array one for each department and print them.\n",
    "import numpy as np\n",
    "Hr=np.arange(1,4)\n",
    "Hr\n",
    "\n",
    "It=np.arange(4,19)\n",
    "It\n",
    "\n",
    "Finance=np.arange(19,24)\n",
    "Finance\n",
    "\n",
    "Sales=np.arange(24,31)\n",
    "Sales"
   ]
  },
  {
   "cell_type": "code",
   "execution_count": 5,
   "id": "67b8972d-3175-465b-9a0f-85773d7f3031",
   "metadata": {},
   "outputs": [
    {
     "name": "stdout",
     "output_type": "stream",
     "text": [
      "Hr: [50 60 57]\n",
      "It: [67 67 67 67 67 67 67 67 67 67 67 67 67 67 67]\n",
      "Finance: [60 65 50 70 87]\n",
      "Sales: [50 60 65 90 56 65 71]\n"
     ]
    }
   ],
   "source": [
    "#TASK2: Create four different 1D arrays to hold only the salaries of the employees as per the details below and print them.\n",
    "import numpy as np\n",
    "Hr=np.array([50,60,57])\n",
    "It=np.array([67]*15)\n",
    "Finance=np.array([60,65,50,70,87])\n",
    "Sales=np.array([50,60,65,90,56,65,71])\n",
    "print(\"Hr:\",Hr)\n",
    "print(\"It:\",It)\n",
    "print(\"Finance:\",Finance)\n",
    "print(\"Sales:\",Sales)"
   ]
  },
  {
   "cell_type": "code",
   "execution_count": 12,
   "id": "1f1fe9bb-03bf-4872-88c3-1a2795dda405",
   "metadata": {},
   "outputs": [
    {
     "name": "stdout",
     "output_type": "stream",
     "text": [
      "The average of Hr: 55.666666666666664\n",
      "The average of It: 67.0\n",
      "The average of Finance: 66.4\n",
      "The average of Sales: 65.28571428571429\n",
      "{'Hr': 55.666666666666664, 'It': 67.0, 'Finance': 66.4, 'Sales': 65.28571428571429}\n",
      "The average highest salary is 63.588095238095235\n"
     ]
    }
   ],
   "source": [
    "#TASK3: Calculate department wise average salary of 30 employees and department wise highest salary expense on employee\n",
    "import numpy as np\n",
    "print(\"The average of Hr:\",np.average(Hr))\n",
    "print(\"The average of It:\",np.average(It))\n",
    "print(\"The average of Finance:\",np.average(Finance))\n",
    "print(\"The average of Sales:\",np.average(Sales))\n",
    "\n",
    "\n",
    "# finding higest average of salary of a department\n",
    "avg_sal = {\"Hr\": 55.666666666666664, \"It\": 67.0, \"Finance\": 66.4, \"Sales\": 65.28571428571429}\n",
    "print(avg_sal)\n",
    "salary_values = list(avg_sal.values())\n",
    "print(\"The average highest salary is\", np.average(salary_values))\n",
    "\n",
    "\n"
   ]
  },
  {
   "cell_type": "code",
   "execution_count": 34,
   "id": "5a187af1-fcf9-4c80-b38d-e159f920f8f1",
   "metadata": {},
   "outputs": [
    {
     "name": "stdout",
     "output_type": "stream",
     "text": [
      "The highest salary of Hr: 60\n",
      "The highest salary of Finance: 87\n"
     ]
    }
   ],
   "source": [
    "#TASK4:LIST HIGHEST SALARY FOR HR AND FINANCE\n",
    "print(\"The highest salary of Hr:\",np.max(Hr))\n",
    "print(\"The highest salary of Finance:\",np.max(Finance))"
   ]
  },
  {
   "cell_type": "code",
   "execution_count": 40,
   "id": "cec783ff-e921-45a9-84d4-02299ccab982",
   "metadata": {},
   "outputs": [
    {
     "name": "stdout",
     "output_type": "stream",
     "text": [
      "Before updated on It: [67 67 67 67 67 67 67 67 67 67 67 67 67 67 67]\n",
      "updated salary of It: [3.35 3.35 3.35 3.35 3.35 3.35 3.35 3.35 3.35 3.35 3.35 3.35 3.35 3.35\n",
      " 3.35]\n"
     ]
    }
   ],
   "source": [
    "#TASK5The company has decided to give a joining/signing bonus worth 5% of the gross salary to those employees who belong to the IT department. Update the salary of such employees after adding the bonus. Display the updated salaries\n",
    "It=np.array([67]*15)\n",
    "print(\"Before updated on It:\",It)\n",
    "updated_It=It*(5/100)\n",
    "print(\"updated salary of It:\",updated_It)\n"
   ]
  }
 ],
 "metadata": {
  "kernelspec": {
   "display_name": "Python 3 (ipykernel)",
   "language": "python",
   "name": "python3"
  },
  "language_info": {
   "codemirror_mode": {
    "name": "ipython",
    "version": 3
   },
   "file_extension": ".py",
   "mimetype": "text/x-python",
   "name": "python",
   "nbconvert_exporter": "python",
   "pygments_lexer": "ipython3",
   "version": "3.12.4"
  }
 },
 "nbformat": 4,
 "nbformat_minor": 5
}
